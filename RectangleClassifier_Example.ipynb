{
 "cells": [
  {
   "cell_type": "markdown",
   "metadata": {},
   "source": [
    "# Rectangle Classifier\n",
    "\n",
    "February 16, 2019\n",
    "\n",
    "Code by Lauren Hayward Sierens\n",
    "\n",
    "Within this notebook, you can modify the code and execute each cell using `Shift+Enter`."
   ]
  },
  {
   "cell_type": "markdown",
   "metadata": {},
   "source": [
    "### First, specify your input\n",
    "\n",
    "You can change the input by changing the variable `x` below."
   ]
  },
  {
   "cell_type": "code",
   "execution_count": 37,
   "metadata": {},
   "outputs": [
    {
     "name": "stdout",
     "output_type": "stream",
     "text": [
      " _ _ _\n",
      " # _ _\n",
      " # _ _\n",
      "\n"
     ]
    }
   ],
   "source": [
    "import numpy as np #Needed to use various mathematical functions\n",
    "\n",
    "L = 3 #The input is an LxL image\n",
    "x = np.array([0,0,0,1,0,0,1,0,0]) #The input image as a row vector\n",
    "\n",
    "### Print the input image: ###\n",
    "image = ''\n",
    "for m in range(L):\n",
    "    for n in range(L):\n",
    "        if x[L*m+n]==1:\n",
    "            image = image + ' #'\n",
    "        else:\n",
    "            image = image + ' _'\n",
    "    image = image + '\\n'\n",
    "print image"
   ]
  },
  {
   "cell_type": "markdown",
   "metadata": {
    "collapsed": true
   },
   "source": [
    "### Next, specify your weights and biases for your two-layer network\n",
    "\n",
    "The weights are stored in the variables `W1` and `W2`. The biases are stored in the variables `b1` and `b2`."
   ]
  },
  {
   "cell_type": "code",
   "execution_count": 38,
   "metadata": {},
   "outputs": [
    {
     "name": "stdout",
     "output_type": "stream",
     "text": [
      "W1 = \n",
      "[[  2.8   0.6]\n",
      " [  3.6   5.2]\n",
      " [ 11.8  -0.2]\n",
      " [ -3.8   4.5]\n",
      " [ -6.4   9. ]\n",
      " [  8.6   3.9]\n",
      " [ -0.3   3.3]\n",
      " [  1.8   9.4]\n",
      " [ 10.    3.7]]\n",
      "\n",
      "b1 = \n",
      "[-0.3 -7.8]\n",
      "\n",
      "W2 = \n",
      "[[-3.3]\n",
      " [-3.6]]\n",
      "\n",
      "b2 = \n",
      "[ 3.9]\n"
     ]
    }
   ],
   "source": [
    "#Weights in first layer:\n",
    "W1 = np.array([[2.8,  0.6],\n",
    "               [3.6,  5.2],\n",
    "               [11.8, -0.2],\n",
    "               [-3.8, 4.5],\n",
    "               [-6.4, 9.0],\n",
    "               [8.6,  3.9],\n",
    "               [-0.3, 3.3],\n",
    "               [1.8,  9.4],\n",
    "               [10.0, 3.7]])\n",
    "print( \"W1 = \\n{}\".format(W1) )\n",
    "\n",
    "#Biases in first layer:\n",
    "b1 = np.array([-0.3, -7.8])\n",
    "print( \"\\nb1 = \\n{}\".format(b1) )\n",
    "\n",
    "#Weights in second layer:\n",
    "W2 = np.array([[-3.3],\n",
    "               [-3.6]])\n",
    "print( \"\\nW2 = \\n{}\".format(W2) )\n",
    "\n",
    "#Bias in second layer:\n",
    "b2 = np.array([3.9])\n",
    "print( \"\\nb2 = \\n{}\".format(b2) )"
   ]
  },
  {
   "cell_type": "markdown",
   "metadata": {},
   "source": [
    "### Next, calculate the output from each neuron in the network"
   ]
  },
  {
   "cell_type": "code",
   "execution_count": 41,
   "metadata": {},
   "outputs": [
    {
     "name": "stdout",
     "output_type": "stream",
     "text": [
      "Output from first layer: a1 = [ 0.01212843  0.5       ]\n"
     ]
    }
   ],
   "source": [
    "#Define the sigmoid function:\n",
    "def g(z):\n",
    "    return 1.0/(1.0 + np.exp(-z))\n",
    "\n",
    "#Output from first layer:\n",
    "a1 = g( x.dot(W1) + b1 )\n",
    "print( \"Output from first layer: a1 = {}\".format(a1) )\n",
    "\n",
    "#Output from second layer:\n",
    "a2 = g( x.dot(W1) + b1 )\n",
    "print( \"Output from first layer: a1 = {}\".format(a1) )"
   ]
  },
  {
   "cell_type": "code",
   "execution_count": null,
   "metadata": {
    "collapsed": true
   },
   "outputs": [],
   "source": []
  }
 ],
 "metadata": {
  "kernelspec": {
   "display_name": "Python 2",
   "language": "python",
   "name": "python2"
  },
  "language_info": {
   "codemirror_mode": {
    "name": "ipython",
    "version": 2
   },
   "file_extension": ".py",
   "mimetype": "text/x-python",
   "name": "python",
   "nbconvert_exporter": "python",
   "pygments_lexer": "ipython2",
   "version": "2.7.13"
  }
 },
 "nbformat": 4,
 "nbformat_minor": 2
}
